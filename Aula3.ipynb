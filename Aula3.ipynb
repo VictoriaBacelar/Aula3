{
 "cells": [
  {
   "cell_type": "code",
   "execution_count": 1,
   "metadata": {},
   "outputs": [
    {
     "name": "stdout",
     "output_type": "stream",
     "text": [
      "Answer Half:  0.333251953125\n",
      "Answer Single: - 0.15625\n",
      "Answer Double:  0.01171875\n"
     ]
    }
   ],
   "source": [
    "\n",
    "def half(n):\n",
    "\n",
    " exp = n[1:6]\n",
    " frac = n[6:len(n)]\n",
    " infinity = exp\n",
    " zero = exp\n",
    " sinal = ''\n",
    " cont = 0\n",
    " answ = 0\n",
    " bt = 1\n",
    " binar = int(exp,2)\n",
    " exp = 2**(binar-15)\n",
    "\n",
    " if(n[0] == \"1\"): sinal = \"-\"\n",
    " if(zero == \"00000\"):\n",
    "  bt = 0\n",
    "  exp = 2**(-14)\n",
    " \n",
    " while (cont < len(frac)):\n",
    "    if(frac[cont] == \"1\"): \n",
    "      answ += 2**-(cont+1)\n",
    "    cont += 1\n",
    " \n",
    " answ = exp * (answ + bt)\n",
    "\n",
    " if(infinity == \"11111\"): answ = \"NaN\"\n",
    " \n",
    " print(\"Answer Half:\",sinal,answ)\n",
    "\n",
    "half(\"0011010101010101\")\n",
    "\n",
    "#------------------------------------------------\n",
    "\n",
    "def single(n):\n",
    " exp = n[1:9]\n",
    " frac = n[9:len(n)]\n",
    " infinity = exp\n",
    " zero = exp\n",
    " sinal = ''\n",
    " cont = 0\n",
    " answ = 0\n",
    " bt = 1\n",
    " \n",
    " binar = int(exp,2)\n",
    " exp = 2**(binar-127)\n",
    "\n",
    " if(n[0] == \"1\"): sinal = \"-\"\n",
    " \n",
    " if(zero == \"00000000\"):\n",
    "  bt = 0\n",
    "  exp = 2**(-126)\n",
    " \n",
    " while (cont < len(frac)):\n",
    "    if(frac[cont] == \"1\"): \n",
    "      answ += 2**-(cont+1)\n",
    "    cont += 1\n",
    " \n",
    " answ = exp * (answ + bt)\n",
    "\n",
    " if(infinity == \"11111111\"): answ = \"NaN\"\n",
    " \n",
    " print(\"Answer Single:\",sinal,answ)\n",
    "\n",
    "single(\"10111110001000000000000000000000\")\n",
    "\n",
    "#-------------------------------------------------\n",
    "\n",
    "def double(n):\n",
    " exp = n[1:12]\n",
    " frac = n[12:len(n)]\n",
    " infinity = exp\n",
    " zero = exp\n",
    " sinal = ''\n",
    " cont = 0\n",
    " answ = 0\n",
    " bt = 1\n",
    " \n",
    " binar = int(exp,2)\n",
    " exp = 2**(binar-1023)\n",
    "\n",
    " if(n[0] == \"1\"): sinal = \"-\"\n",
    "\n",
    " if(zero == \"00000000000\"):\n",
    "  bt = 0\n",
    "  exp = 2**(-1022)\n",
    " \n",
    " while (cont < len(frac)):\n",
    "    if(frac[cont] == \"1\"): \n",
    "      answ += 2**-(cont+1)\n",
    "    cont += 1\n",
    " \n",
    " answ = exp * (answ + bt)\n",
    "\n",
    " if(infinity == \"11111111111\"): answ = \"NaN\"\n",
    " \n",
    " print(\"Answer Double:\",sinal,answ)\n",
    "\n",
    "double('0011111110001000000000000000000000000000000000000000000000000000')\n"
   ]
  },
  {
   "cell_type": "code",
   "execution_count": 2,
   "metadata": {},
   "outputs": [
    {
     "data": {
      "text/plain": [
       "0.333251953125"
      ]
     },
     "execution_count": 2,
     "metadata": {},
     "output_type": "execute_result"
    }
   ],
   "source": [
    "\n",
    "(1 + 2**-2) * 2**-2\n",
    "\n",
    "2**-2*(1+(2**-2+2**-4+2**-6+2**-8+2**-10))"
   ]
  },
  {
   "cell_type": "code",
   "execution_count": null,
   "metadata": {},
   "outputs": [],
   "source": []
  }
 ],
 "metadata": {
  "kernelspec": {
   "display_name": "Python 3",
   "language": "python",
   "name": "python3"
  },
  "language_info": {
   "codemirror_mode": {
    "name": "ipython",
    "version": 3
   },
   "file_extension": ".py",
   "mimetype": "text/x-python",
   "name": "python",
   "nbconvert_exporter": "python",
   "pygments_lexer": "ipython3",
   "version": "3.6.5"
  }
 },
 "nbformat": 4,
 "nbformat_minor": 2
}
