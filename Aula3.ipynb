{
 "cells": [
  {
   "cell_type": "code",
   "execution_count": 41,
   "metadata": {
    "collapsed": false
   },
   "outputs": [
    {
     "data": {
      "text/plain": [
       "0.333251953125"
      ]
     },
     "execution_count": 41,
     "metadata": {},
     "output_type": "execute_result"
    }
   ],
   "source": [
    "(1 + 2**-2) * 2**-2\n",
    "\n",
    "2**-2*(1+(2**-2+2**-4+2**-6+2**-8+2**-10))"
   ]
  },
  {
   "cell_type": "code",
   "execution_count": 38,
   "metadata": {
    "collapsed": false
   },
   "outputs": [
    {
     "name": "stdout",
     "output_type": "stream",
     "text": [
      "13\n",
      "111111110\n",
      "010101\n"
     ]
    }
   ],
   "source": [
    "def conver(n):\n",
    " n = str(n)\n",
    " a = 7\n",
    " b = 16\n",
    " cont = 1\n",
    " cont2 = 7\n",
    " arr = \"\"\n",
    " arr2 = \"\"\n",
    "\n",
    " while (cont < a):\n",
    "    arr = arr + n[cont]\n",
    "    cont = cont + 1\n",
    "    \n",
    " while (cont2 < b):\n",
    "    arr2 = arr2 + n[cont2]\n",
    "    cont2 = cont2 + 1\n",
    " \n",
    " \n",
    " print( arr2) \n",
    " bin = int(arr,2)\n",
    " expo = bin - 15 \n",
    " if( n[0] == 1): cont= \"-\"\n",
    " print(arr)\n",
    "\n",
    "\n",
    "#print( int(1110))\n",
    "print(int(\"1101\",2))\n",
    "conver(1010101111111110)\n"
   ]
  },
  {
   "cell_type": "code",
   "execution_count": null,
   "metadata": {
    "collapsed": true
   },
   "outputs": [],
   "source": []
  }
 ],
 "metadata": {
  "kernelspec": {
   "display_name": "Python [default]",
   "language": "python",
   "name": "python3"
  },
  "language_info": {
   "codemirror_mode": {
    "name": "ipython",
    "version": 3
   },
   "file_extension": ".py",
   "mimetype": "text/x-python",
   "name": "python",
   "nbconvert_exporter": "python",
   "pygments_lexer": "ipython3",
   "version": "3.5.2"
  }
 },
 "nbformat": 4,
 "nbformat_minor": 1
}
